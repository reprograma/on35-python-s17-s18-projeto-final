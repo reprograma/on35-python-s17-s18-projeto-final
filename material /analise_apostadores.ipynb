{
 "cells": [
  {
   "cell_type": "markdown",
   "metadata": {},
   "source": [
    "## Importações e seleção dos dados"
   ]
  },
  {
   "cell_type": "code",
   "execution_count": 69,
   "metadata": {},
   "outputs": [],
   "source": [
    "import pandas as pd\n",
    "import numpy as np\n",
    "import seaborn as sns\n",
    "import matplotlib.pyplot as plt\n",
    "from scipy.stats import chi2_contingency\n",
    "import statsmodels.api as sm"
   ]
  },
  {
   "cell_type": "code",
   "execution_count": 70,
   "metadata": {},
   "outputs": [
    {
     "name": "stderr",
     "output_type": "stream",
     "text": [
      "/var/folders/qh/0y24swzd4_z3zrrk6dvrgvqh0000gn/T/ipykernel_7524/184671249.py:1: DtypeWarning: Columns (12,24,32,33,34,82,83,84,95,96,97,98,111,158,159,164,176,177,178,179,180,189,203,204,213,235,255,261) have mixed types. Specify dtype option on import or set low_memory=False.\n",
      "  df1 = pd.read_csv('base_rotulos.csv')\n"
     ]
    }
   ],
   "source": [
    "df1 = pd.read_csv('base_rotulos.csv')"
   ]
  },
  {
   "cell_type": "code",
   "execution_count": 71,
   "metadata": {},
   "outputs": [
    {
     "name": "stdout",
     "output_type": "stream",
     "text": [
      "<class 'pandas.core.frame.DataFrame'>\n",
      "RangeIndex: 5814 entries, 0 to 5813\n",
      "Columns: 335 entries, nquest to PESOE\n",
      "dtypes: int64(124), object(211)\n",
      "memory usage: 14.9+ MB\n"
     ]
    }
   ],
   "source": [
    "df1.info()"
   ]
  },
  {
   "cell_type": "code",
   "execution_count": 72,
   "metadata": {},
   "outputs": [],
   "source": [
    "df1 = df1[['nquest', 'idade1', 'faixa etária', 'sexo', 'cor', 'REGIAO', 'RCLASSE2', 'estcivil', 'renda', 'escola', 'nfilhos', 'p52aa', 'p55', 'p56', 'p66', 'p67a', 'p68', 'p27', 'p28' ]]"
   ]
  },
  {
   "cell_type": "code",
   "execution_count": 73,
   "metadata": {},
   "outputs": [
    {
     "name": "stdout",
     "output_type": "stream",
     "text": [
      "<class 'pandas.core.frame.DataFrame'>\n",
      "RangeIndex: 5814 entries, 0 to 5813\n",
      "Data columns (total 19 columns):\n",
      " #   Column        Non-Null Count  Dtype \n",
      "---  ------        --------------  ----- \n",
      " 0   nquest        5814 non-null   int64 \n",
      " 1   idade1        5814 non-null   int64 \n",
      " 2   faixa etária  5814 non-null   object\n",
      " 3   sexo          5814 non-null   object\n",
      " 4   cor           5814 non-null   object\n",
      " 5   REGIAO        5814 non-null   object\n",
      " 6   RCLASSE2      5814 non-null   object\n",
      " 7   estcivil      5814 non-null   object\n",
      " 8   renda         5814 non-null   object\n",
      " 9   escola        5814 non-null   object\n",
      " 10  nfilhos       5814 non-null   int64 \n",
      " 11  p52aa         5814 non-null   object\n",
      " 12  p55           5814 non-null   object\n",
      " 13  p56           5814 non-null   object\n",
      " 14  p66           5814 non-null   object\n",
      " 15  p67a          5814 non-null   object\n",
      " 16  p68           5814 non-null   object\n",
      " 17  p27           5814 non-null   object\n",
      " 18  p28           5814 non-null   object\n",
      "dtypes: int64(3), object(16)\n",
      "memory usage: 863.1+ KB\n"
     ]
    }
   ],
   "source": [
    "df1.info()"
   ]
  },
  {
   "cell_type": "code",
   "execution_count": 74,
   "metadata": {},
   "outputs": [],
   "source": [
    "df2 = pd.read_csv('base_valores.csv')"
   ]
  },
  {
   "cell_type": "code",
   "execution_count": 75,
   "metadata": {},
   "outputs": [
    {
     "name": "stdout",
     "output_type": "stream",
     "text": [
      "<class 'pandas.core.frame.DataFrame'>\n",
      "RangeIndex: 5814 entries, 0 to 5813\n",
      "Columns: 335 entries, nquest to PESOE\n",
      "dtypes: int64(333), object(2)\n",
      "memory usage: 14.9+ MB\n"
     ]
    }
   ],
   "source": [
    "df2.info()"
   ]
  },
  {
   "cell_type": "code",
   "execution_count": 76,
   "metadata": {},
   "outputs": [
    {
     "name": "stdout",
     "output_type": "stream",
     "text": [
      "<class 'pandas.core.frame.DataFrame'>\n",
      "RangeIndex: 5814 entries, 0 to 5813\n",
      "Data columns (total 6 columns):\n",
      " #   Column     Non-Null Count  Dtype\n",
      "---  ------     --------------  -----\n",
      " 0   nquest     5814 non-null   int64\n",
      " 1   rendacat   5814 non-null   int64\n",
      " 2   escolacat  5814 non-null   int64\n",
      " 3   p64b       5814 non-null   int64\n",
      " 4   p64g       5814 non-null   int64\n",
      " 5   p64h       5814 non-null   int64\n",
      "dtypes: int64(6)\n",
      "memory usage: 272.7 KB\n"
     ]
    }
   ],
   "source": [
    "df2 = df2[['nquest', 'rendacat', 'escolacat', 'p64b', 'p64g', 'p64h' ]]\n",
    "df2.info()"
   ]
  },
  {
   "cell_type": "markdown",
   "metadata": {},
   "source": [
    "## Trabalhando no df"
   ]
  },
  {
   "cell_type": "code",
   "execution_count": 77,
   "metadata": {},
   "outputs": [],
   "source": [
    "df_invest = pd.merge(df1, df2, on=['nquest'], how='inner')"
   ]
  },
  {
   "cell_type": "code",
   "execution_count": 78,
   "metadata": {},
   "outputs": [
    {
     "name": "stdout",
     "output_type": "stream",
     "text": [
      "<class 'pandas.core.frame.DataFrame'>\n",
      "RangeIndex: 5814 entries, 0 to 5813\n",
      "Data columns (total 24 columns):\n",
      " #   Column        Non-Null Count  Dtype \n",
      "---  ------        --------------  ----- \n",
      " 0   nquest        5814 non-null   int64 \n",
      " 1   idade1        5814 non-null   int64 \n",
      " 2   faixa etária  5814 non-null   object\n",
      " 3   sexo          5814 non-null   object\n",
      " 4   cor           5814 non-null   object\n",
      " 5   REGIAO        5814 non-null   object\n",
      " 6   RCLASSE2      5814 non-null   object\n",
      " 7   estcivil      5814 non-null   object\n",
      " 8   renda         5814 non-null   object\n",
      " 9   escola        5814 non-null   object\n",
      " 10  nfilhos       5814 non-null   int64 \n",
      " 11  p52aa         5814 non-null   object\n",
      " 12  p55           5814 non-null   object\n",
      " 13  p56           5814 non-null   object\n",
      " 14  p66           5814 non-null   object\n",
      " 15  p67a          5814 non-null   object\n",
      " 16  p68           5814 non-null   object\n",
      " 17  p27           5814 non-null   object\n",
      " 18  p28           5814 non-null   object\n",
      " 19  rendacat      5814 non-null   int64 \n",
      " 20  escolacat     5814 non-null   int64 \n",
      " 21  p64b          5814 non-null   int64 \n",
      " 22  p64g          5814 non-null   int64 \n",
      " 23  p64h          5814 non-null   int64 \n",
      "dtypes: int64(8), object(16)\n",
      "memory usage: 1.1+ MB\n"
     ]
    }
   ],
   "source": [
    "df_invest.info()"
   ]
  },
  {
   "cell_type": "code",
   "execution_count": 79,
   "metadata": {},
   "outputs": [],
   "source": [
    "df_invest['perfil'] = df_invest['p66'].apply(lambda x: 'apostador' if x == 'Frequentemente' else 'investidor')"
   ]
  },
  {
   "cell_type": "code",
   "execution_count": 80,
   "metadata": {},
   "outputs": [
    {
     "data": {
      "text/html": [
       "<div>\n",
       "<style scoped>\n",
       "    .dataframe tbody tr th:only-of-type {\n",
       "        vertical-align: middle;\n",
       "    }\n",
       "\n",
       "    .dataframe tbody tr th {\n",
       "        vertical-align: top;\n",
       "    }\n",
       "\n",
       "    .dataframe thead th {\n",
       "        text-align: right;\n",
       "    }\n",
       "</style>\n",
       "<table border=\"1\" class=\"dataframe\">\n",
       "  <thead>\n",
       "    <tr style=\"text-align: right;\">\n",
       "      <th></th>\n",
       "      <th>nquest</th>\n",
       "      <th>idade1</th>\n",
       "      <th>faixa etária</th>\n",
       "      <th>sexo</th>\n",
       "      <th>cor</th>\n",
       "      <th>REGIAO</th>\n",
       "      <th>RCLASSE2</th>\n",
       "      <th>estcivil</th>\n",
       "      <th>renda</th>\n",
       "      <th>escola</th>\n",
       "      <th>...</th>\n",
       "      <th>p67a</th>\n",
       "      <th>p68</th>\n",
       "      <th>p27</th>\n",
       "      <th>p28</th>\n",
       "      <th>rendacat</th>\n",
       "      <th>escolacat</th>\n",
       "      <th>p64b</th>\n",
       "      <th>p64g</th>\n",
       "      <th>p64h</th>\n",
       "      <th>perfil</th>\n",
       "    </tr>\n",
       "  </thead>\n",
       "  <tbody>\n",
       "    <tr>\n",
       "      <th>0</th>\n",
       "      <td>192956123</td>\n",
       "      <td>54</td>\n",
       "      <td>45-59</td>\n",
       "      <td>Feminino</td>\n",
       "      <td>Preta</td>\n",
       "      <td>Nordeste</td>\n",
       "      <td>D/E</td>\n",
       "      <td>Viuvo(a)</td>\n",
       "      <td>Até R$ 1.320,00</td>\n",
       "      <td>Fundamental II completo</td>\n",
       "      <td>...</td>\n",
       "      <td>0</td>\n",
       "      <td>0</td>\n",
       "      <td>55</td>\n",
       "      <td>Ja comecou uma reserva para a aposentadoria</td>\n",
       "      <td>9</td>\n",
       "      <td>3</td>\n",
       "      <td>5</td>\n",
       "      <td>5</td>\n",
       "      <td>5</td>\n",
       "      <td>investidor</td>\n",
       "    </tr>\n",
       "    <tr>\n",
       "      <th>1</th>\n",
       "      <td>192957178</td>\n",
       "      <td>67</td>\n",
       "      <td>60+</td>\n",
       "      <td>Feminino</td>\n",
       "      <td>Branca</td>\n",
       "      <td>Nordeste</td>\n",
       "      <td>D/E</td>\n",
       "      <td>Viuvo(a)</td>\n",
       "      <td>De R$ 1.321,00 Até R$ 2.640,00</td>\n",
       "      <td>Analfabeto/ Fundamental I incompleto</td>\n",
       "      <td>...</td>\n",
       "      <td>0</td>\n",
       "      <td>0</td>\n",
       "      <td>0</td>\n",
       "      <td>0</td>\n",
       "      <td>1</td>\n",
       "      <td>1</td>\n",
       "      <td>5</td>\n",
       "      <td>5</td>\n",
       "      <td>1</td>\n",
       "      <td>investidor</td>\n",
       "    </tr>\n",
       "    <tr>\n",
       "      <th>2</th>\n",
       "      <td>192958083</td>\n",
       "      <td>44</td>\n",
       "      <td>35-44</td>\n",
       "      <td>Feminino</td>\n",
       "      <td>Preta</td>\n",
       "      <td>Nordeste</td>\n",
       "      <td>C2</td>\n",
       "      <td>Casado(a)/com companheiro(a)</td>\n",
       "      <td>Até R$ 1.320,00</td>\n",
       "      <td>Ensino Médio completo</td>\n",
       "      <td>...</td>\n",
       "      <td>0</td>\n",
       "      <td>0</td>\n",
       "      <td>45</td>\n",
       "      <td>Ja comecou uma reserva para a aposentadoria</td>\n",
       "      <td>9</td>\n",
       "      <td>5</td>\n",
       "      <td>5</td>\n",
       "      <td>1</td>\n",
       "      <td>1</td>\n",
       "      <td>investidor</td>\n",
       "    </tr>\n",
       "    <tr>\n",
       "      <th>3</th>\n",
       "      <td>192958117</td>\n",
       "      <td>35</td>\n",
       "      <td>35-44</td>\n",
       "      <td>Feminino</td>\n",
       "      <td>Parda</td>\n",
       "      <td>Nordeste</td>\n",
       "      <td>D/E</td>\n",
       "      <td>Solteiro (a)</td>\n",
       "      <td>Até R$ 1.320,00</td>\n",
       "      <td>Fundamental I completo/ Fundamental II incompleto</td>\n",
       "      <td>...</td>\n",
       "      <td>0</td>\n",
       "      <td>0</td>\n",
       "      <td>60</td>\n",
       "      <td>Ainda Não comecou uma reserva para a aposentad...</td>\n",
       "      <td>9</td>\n",
       "      <td>2</td>\n",
       "      <td>5</td>\n",
       "      <td>5</td>\n",
       "      <td>1</td>\n",
       "      <td>investidor</td>\n",
       "    </tr>\n",
       "    <tr>\n",
       "      <th>4</th>\n",
       "      <td>192958632</td>\n",
       "      <td>69</td>\n",
       "      <td>60+</td>\n",
       "      <td>Feminino</td>\n",
       "      <td>Parda</td>\n",
       "      <td>Nordeste</td>\n",
       "      <td>C2</td>\n",
       "      <td>Separado/Divorciado</td>\n",
       "      <td>Recusa</td>\n",
       "      <td>Ensino Médio completo</td>\n",
       "      <td>...</td>\n",
       "      <td>0</td>\n",
       "      <td>0</td>\n",
       "      <td>0</td>\n",
       "      <td>0</td>\n",
       "      <td>97</td>\n",
       "      <td>5</td>\n",
       "      <td>1</td>\n",
       "      <td>1</td>\n",
       "      <td>1</td>\n",
       "      <td>investidor</td>\n",
       "    </tr>\n",
       "    <tr>\n",
       "      <th>...</th>\n",
       "      <td>...</td>\n",
       "      <td>...</td>\n",
       "      <td>...</td>\n",
       "      <td>...</td>\n",
       "      <td>...</td>\n",
       "      <td>...</td>\n",
       "      <td>...</td>\n",
       "      <td>...</td>\n",
       "      <td>...</td>\n",
       "      <td>...</td>\n",
       "      <td>...</td>\n",
       "      <td>...</td>\n",
       "      <td>...</td>\n",
       "      <td>...</td>\n",
       "      <td>...</td>\n",
       "      <td>...</td>\n",
       "      <td>...</td>\n",
       "      <td>...</td>\n",
       "      <td>...</td>\n",
       "      <td>...</td>\n",
       "      <td>...</td>\n",
       "    </tr>\n",
       "    <tr>\n",
       "      <th>5809</th>\n",
       "      <td>193921867</td>\n",
       "      <td>50</td>\n",
       "      <td>45-59</td>\n",
       "      <td>Masculino</td>\n",
       "      <td>Branca</td>\n",
       "      <td>Sul</td>\n",
       "      <td>B2</td>\n",
       "      <td>Solteiro (a)</td>\n",
       "      <td>De R$ 3.961,00 Até R$ 6.600,00</td>\n",
       "      <td>Pós-graduação</td>\n",
       "      <td>...</td>\n",
       "      <td>0</td>\n",
       "      <td>0</td>\n",
       "      <td>60</td>\n",
       "      <td>Ja comecou uma reserva para a aposentadoria</td>\n",
       "      <td>3</td>\n",
       "      <td>8</td>\n",
       "      <td>2</td>\n",
       "      <td>1</td>\n",
       "      <td>1</td>\n",
       "      <td>investidor</td>\n",
       "    </tr>\n",
       "    <tr>\n",
       "      <th>5810</th>\n",
       "      <td>193921868</td>\n",
       "      <td>29</td>\n",
       "      <td>25-34</td>\n",
       "      <td>Feminino</td>\n",
       "      <td>Branca</td>\n",
       "      <td>Sul</td>\n",
       "      <td>B2</td>\n",
       "      <td>Casado(a)/com companheiro(a)</td>\n",
       "      <td>De R$ 2.640,00 Até R$ 3.960,00</td>\n",
       "      <td>Ensino Médio completo</td>\n",
       "      <td>...</td>\n",
       "      <td>0</td>\n",
       "      <td>0</td>\n",
       "      <td>35</td>\n",
       "      <td>Ja comecou uma reserva para a aposentadoria</td>\n",
       "      <td>2</td>\n",
       "      <td>5</td>\n",
       "      <td>5</td>\n",
       "      <td>2</td>\n",
       "      <td>1</td>\n",
       "      <td>investidor</td>\n",
       "    </tr>\n",
       "    <tr>\n",
       "      <th>5811</th>\n",
       "      <td>193921869</td>\n",
       "      <td>28</td>\n",
       "      <td>25-34</td>\n",
       "      <td>Masculino</td>\n",
       "      <td>Parda</td>\n",
       "      <td>Sul</td>\n",
       "      <td>C1</td>\n",
       "      <td>Separado/Divorciado</td>\n",
       "      <td>De R$ 1.321,00 Até R$ 2.640,00</td>\n",
       "      <td>Fundamental I completo/ Fundamental II incompleto</td>\n",
       "      <td>...</td>\n",
       "      <td>c. Considerar como uma diversao</td>\n",
       "      <td>Uma forma de se divertir e eventualmente ganha...</td>\n",
       "      <td>50</td>\n",
       "      <td>Ainda Não comecou uma reserva para a aposentad...</td>\n",
       "      <td>1</td>\n",
       "      <td>2</td>\n",
       "      <td>5</td>\n",
       "      <td>4</td>\n",
       "      <td>1</td>\n",
       "      <td>investidor</td>\n",
       "    </tr>\n",
       "    <tr>\n",
       "      <th>5812</th>\n",
       "      <td>193925879</td>\n",
       "      <td>54</td>\n",
       "      <td>45-59</td>\n",
       "      <td>Feminino</td>\n",
       "      <td>Branca</td>\n",
       "      <td>Sul</td>\n",
       "      <td>B2</td>\n",
       "      <td>Casado(a)/com companheiro(a)</td>\n",
       "      <td>De R$ 2.640,00 Até R$ 3.960,00</td>\n",
       "      <td>Fundamental II completo</td>\n",
       "      <td>...</td>\n",
       "      <td>0</td>\n",
       "      <td>0</td>\n",
       "      <td>Aposentou,mas continua trabalhado</td>\n",
       "      <td>0</td>\n",
       "      <td>2</td>\n",
       "      <td>3</td>\n",
       "      <td>5</td>\n",
       "      <td>1</td>\n",
       "      <td>1</td>\n",
       "      <td>investidor</td>\n",
       "    </tr>\n",
       "    <tr>\n",
       "      <th>5813</th>\n",
       "      <td>193925880</td>\n",
       "      <td>67</td>\n",
       "      <td>60+</td>\n",
       "      <td>Masculino</td>\n",
       "      <td>Branca</td>\n",
       "      <td>Sul</td>\n",
       "      <td>C1</td>\n",
       "      <td>Casado(a)/com companheiro(a)</td>\n",
       "      <td>De R$ 1.321,00 Até R$ 2.640,00</td>\n",
       "      <td>Fundamental I completo/ Fundamental II incompleto</td>\n",
       "      <td>...</td>\n",
       "      <td>0</td>\n",
       "      <td>0</td>\n",
       "      <td>0</td>\n",
       "      <td>0</td>\n",
       "      <td>1</td>\n",
       "      <td>2</td>\n",
       "      <td>1</td>\n",
       "      <td>1</td>\n",
       "      <td>1</td>\n",
       "      <td>investidor</td>\n",
       "    </tr>\n",
       "  </tbody>\n",
       "</table>\n",
       "<p>5814 rows × 25 columns</p>\n",
       "</div>"
      ],
      "text/plain": [
       "         nquest  idade1 faixa etária       sexo     cor    REGIAO RCLASSE2  \\\n",
       "0     192956123      54        45-59   Feminino   Preta  Nordeste      D/E   \n",
       "1     192957178      67          60+   Feminino  Branca  Nordeste      D/E   \n",
       "2     192958083      44        35-44   Feminino   Preta  Nordeste       C2   \n",
       "3     192958117      35        35-44   Feminino   Parda  Nordeste      D/E   \n",
       "4     192958632      69          60+   Feminino   Parda  Nordeste       C2   \n",
       "...         ...     ...          ...        ...     ...       ...      ...   \n",
       "5809  193921867      50        45-59  Masculino  Branca       Sul       B2   \n",
       "5810  193921868      29        25-34   Feminino  Branca       Sul       B2   \n",
       "5811  193921869      28        25-34  Masculino   Parda       Sul       C1   \n",
       "5812  193925879      54        45-59   Feminino  Branca       Sul       B2   \n",
       "5813  193925880      67          60+  Masculino  Branca       Sul       C1   \n",
       "\n",
       "                          estcivil                           renda  \\\n",
       "0                         Viuvo(a)                 Até R$ 1.320,00   \n",
       "1                         Viuvo(a)  De R$ 1.321,00 Até R$ 2.640,00   \n",
       "2     Casado(a)/com companheiro(a)                 Até R$ 1.320,00   \n",
       "3                     Solteiro (a)                 Até R$ 1.320,00   \n",
       "4              Separado/Divorciado                          Recusa   \n",
       "...                            ...                             ...   \n",
       "5809                  Solteiro (a)  De R$ 3.961,00 Até R$ 6.600,00   \n",
       "5810  Casado(a)/com companheiro(a)  De R$ 2.640,00 Até R$ 3.960,00   \n",
       "5811           Separado/Divorciado  De R$ 1.321,00 Até R$ 2.640,00   \n",
       "5812  Casado(a)/com companheiro(a)  De R$ 2.640,00 Até R$ 3.960,00   \n",
       "5813  Casado(a)/com companheiro(a)  De R$ 1.321,00 Até R$ 2.640,00   \n",
       "\n",
       "                                                 escola  ...  \\\n",
       "0                               Fundamental II completo  ...   \n",
       "1                  Analfabeto/ Fundamental I incompleto  ...   \n",
       "2                                 Ensino Médio completo  ...   \n",
       "3     Fundamental I completo/ Fundamental II incompleto  ...   \n",
       "4                                 Ensino Médio completo  ...   \n",
       "...                                                 ...  ...   \n",
       "5809                                      Pós-graduação  ...   \n",
       "5810                              Ensino Médio completo  ...   \n",
       "5811  Fundamental I completo/ Fundamental II incompleto  ...   \n",
       "5812                            Fundamental II completo  ...   \n",
       "5813  Fundamental I completo/ Fundamental II incompleto  ...   \n",
       "\n",
       "                                 p67a  \\\n",
       "0                                   0   \n",
       "1                                   0   \n",
       "2                                   0   \n",
       "3                                   0   \n",
       "4                                   0   \n",
       "...                               ...   \n",
       "5809                                0   \n",
       "5810                                0   \n",
       "5811  c. Considerar como uma diversao   \n",
       "5812                                0   \n",
       "5813                                0   \n",
       "\n",
       "                                                    p68  \\\n",
       "0                                                     0   \n",
       "1                                                     0   \n",
       "2                                                     0   \n",
       "3                                                     0   \n",
       "4                                                     0   \n",
       "...                                                 ...   \n",
       "5809                                                  0   \n",
       "5810                                                  0   \n",
       "5811  Uma forma de se divertir e eventualmente ganha...   \n",
       "5812                                                  0   \n",
       "5813                                                  0   \n",
       "\n",
       "                                    p27  \\\n",
       "0                                    55   \n",
       "1                                     0   \n",
       "2                                    45   \n",
       "3                                    60   \n",
       "4                                     0   \n",
       "...                                 ...   \n",
       "5809                                 60   \n",
       "5810                                 35   \n",
       "5811                                 50   \n",
       "5812  Aposentou,mas continua trabalhado   \n",
       "5813                                  0   \n",
       "\n",
       "                                                    p28 rendacat escolacat  \\\n",
       "0           Ja comecou uma reserva para a aposentadoria        9         3   \n",
       "1                                                     0        1         1   \n",
       "2           Ja comecou uma reserva para a aposentadoria        9         5   \n",
       "3     Ainda Não comecou uma reserva para a aposentad...        9         2   \n",
       "4                                                     0       97         5   \n",
       "...                                                 ...      ...       ...   \n",
       "5809        Ja comecou uma reserva para a aposentadoria        3         8   \n",
       "5810        Ja comecou uma reserva para a aposentadoria        2         5   \n",
       "5811  Ainda Não comecou uma reserva para a aposentad...        1         2   \n",
       "5812                                                  0        2         3   \n",
       "5813                                                  0        1         2   \n",
       "\n",
       "     p64b p64g p64h      perfil  \n",
       "0       5    5    5  investidor  \n",
       "1       5    5    1  investidor  \n",
       "2       5    1    1  investidor  \n",
       "3       5    5    1  investidor  \n",
       "4       1    1    1  investidor  \n",
       "...   ...  ...  ...         ...  \n",
       "5809    2    1    1  investidor  \n",
       "5810    5    2    1  investidor  \n",
       "5811    5    4    1  investidor  \n",
       "5812    5    1    1  investidor  \n",
       "5813    1    1    1  investidor  \n",
       "\n",
       "[5814 rows x 25 columns]"
      ]
     },
     "execution_count": 80,
     "metadata": {},
     "output_type": "execute_result"
    }
   ],
   "source": [
    "df_invest"
   ]
  },
  {
   "cell_type": "code",
   "execution_count": 81,
   "metadata": {},
   "outputs": [],
   "source": [
    "df_invest.to_csv('base_final.csv', index=False)"
   ]
  },
  {
   "cell_type": "markdown",
   "metadata": {},
   "source": [
    "## Entendendo os dados"
   ]
  },
  {
   "cell_type": "code",
   "execution_count": 82,
   "metadata": {},
   "outputs": [
    {
     "data": {
      "text/plain": [
       "nquest          0\n",
       "idade1          0\n",
       "faixa etária    0\n",
       "sexo            0\n",
       "cor             0\n",
       "REGIAO          0\n",
       "RCLASSE2        0\n",
       "estcivil        0\n",
       "renda           0\n",
       "escola          0\n",
       "nfilhos         0\n",
       "p52aa           0\n",
       "p55             0\n",
       "p56             0\n",
       "p66             0\n",
       "p67a            0\n",
       "p68             0\n",
       "p27             0\n",
       "p28             0\n",
       "rendacat        0\n",
       "escolacat       0\n",
       "p64b            0\n",
       "p64g            0\n",
       "p64h            0\n",
       "perfil          0\n",
       "dtype: int64"
      ]
     },
     "execution_count": 82,
     "metadata": {},
     "output_type": "execute_result"
    }
   ],
   "source": [
    "df_invest.isnull().sum()"
   ]
  },
  {
   "cell_type": "code",
   "execution_count": 83,
   "metadata": {},
   "outputs": [
    {
     "data": {
      "text/plain": [
       "nquest           int64\n",
       "idade1           int64\n",
       "faixa etária    object\n",
       "sexo            object\n",
       "cor             object\n",
       "REGIAO          object\n",
       "RCLASSE2        object\n",
       "estcivil        object\n",
       "renda           object\n",
       "escola          object\n",
       "nfilhos          int64\n",
       "p52aa           object\n",
       "p55             object\n",
       "p56             object\n",
       "p66             object\n",
       "p67a            object\n",
       "p68             object\n",
       "p27             object\n",
       "p28             object\n",
       "rendacat         int64\n",
       "escolacat        int64\n",
       "p64b             int64\n",
       "p64g             int64\n",
       "p64h             int64\n",
       "perfil          object\n",
       "dtype: object"
      ]
     },
     "execution_count": 83,
     "metadata": {},
     "output_type": "execute_result"
    }
   ],
   "source": [
    "df_invest.dtypes"
   ]
  },
  {
   "cell_type": "code",
   "execution_count": 84,
   "metadata": {},
   "outputs": [
    {
     "data": {
      "text/html": [
       "<div>\n",
       "<style scoped>\n",
       "    .dataframe tbody tr th:only-of-type {\n",
       "        vertical-align: middle;\n",
       "    }\n",
       "\n",
       "    .dataframe tbody tr th {\n",
       "        vertical-align: top;\n",
       "    }\n",
       "\n",
       "    .dataframe thead th {\n",
       "        text-align: right;\n",
       "    }\n",
       "</style>\n",
       "<table border=\"1\" class=\"dataframe\">\n",
       "  <thead>\n",
       "    <tr style=\"text-align: right;\">\n",
       "      <th></th>\n",
       "      <th>count</th>\n",
       "      <th>mean</th>\n",
       "      <th>std</th>\n",
       "      <th>min</th>\n",
       "      <th>25%</th>\n",
       "      <th>50%</th>\n",
       "      <th>75%</th>\n",
       "      <th>max</th>\n",
       "    </tr>\n",
       "  </thead>\n",
       "  <tbody>\n",
       "    <tr>\n",
       "      <th>nquest</th>\n",
       "      <td>5814.0</td>\n",
       "      <td>1.932473e+08</td>\n",
       "      <td>194582.029632</td>\n",
       "      <td>192956123.0</td>\n",
       "      <td>1.930918e+08</td>\n",
       "      <td>193176180.0</td>\n",
       "      <td>1.933947e+08</td>\n",
       "      <td>193925880.0</td>\n",
       "    </tr>\n",
       "    <tr>\n",
       "      <th>idade1</th>\n",
       "      <td>5814.0</td>\n",
       "      <td>4.113158e+01</td>\n",
       "      <td>16.320284</td>\n",
       "      <td>16.0</td>\n",
       "      <td>2.700000e+01</td>\n",
       "      <td>40.0</td>\n",
       "      <td>5.400000e+01</td>\n",
       "      <td>90.0</td>\n",
       "    </tr>\n",
       "    <tr>\n",
       "      <th>nfilhos</th>\n",
       "      <td>5814.0</td>\n",
       "      <td>1.517028e+00</td>\n",
       "      <td>1.626051</td>\n",
       "      <td>0.0</td>\n",
       "      <td>0.000000e+00</td>\n",
       "      <td>1.0</td>\n",
       "      <td>2.000000e+00</td>\n",
       "      <td>10.0</td>\n",
       "    </tr>\n",
       "    <tr>\n",
       "      <th>rendacat</th>\n",
       "      <td>5814.0</td>\n",
       "      <td>9.498280e+00</td>\n",
       "      <td>20.066608</td>\n",
       "      <td>1.0</td>\n",
       "      <td>1.000000e+00</td>\n",
       "      <td>4.0</td>\n",
       "      <td>9.000000e+00</td>\n",
       "      <td>99.0</td>\n",
       "    </tr>\n",
       "    <tr>\n",
       "      <th>escolacat</th>\n",
       "      <td>5814.0</td>\n",
       "      <td>4.400585e+00</td>\n",
       "      <td>1.800569</td>\n",
       "      <td>1.0</td>\n",
       "      <td>3.000000e+00</td>\n",
       "      <td>5.0</td>\n",
       "      <td>5.000000e+00</td>\n",
       "      <td>8.0</td>\n",
       "    </tr>\n",
       "    <tr>\n",
       "      <th>p64b</th>\n",
       "      <td>5814.0</td>\n",
       "      <td>4.543516e+00</td>\n",
       "      <td>4.966679</td>\n",
       "      <td>1.0</td>\n",
       "      <td>4.000000e+00</td>\n",
       "      <td>5.0</td>\n",
       "      <td>5.000000e+00</td>\n",
       "      <td>99.0</td>\n",
       "    </tr>\n",
       "    <tr>\n",
       "      <th>p64g</th>\n",
       "      <td>5814.0</td>\n",
       "      <td>2.767458e+00</td>\n",
       "      <td>6.651658</td>\n",
       "      <td>1.0</td>\n",
       "      <td>1.000000e+00</td>\n",
       "      <td>1.0</td>\n",
       "      <td>4.000000e+00</td>\n",
       "      <td>99.0</td>\n",
       "    </tr>\n",
       "    <tr>\n",
       "      <th>p64h</th>\n",
       "      <td>5814.0</td>\n",
       "      <td>2.424321e+00</td>\n",
       "      <td>4.699616</td>\n",
       "      <td>1.0</td>\n",
       "      <td>1.000000e+00</td>\n",
       "      <td>1.0</td>\n",
       "      <td>4.000000e+00</td>\n",
       "      <td>99.0</td>\n",
       "    </tr>\n",
       "  </tbody>\n",
       "</table>\n",
       "</div>"
      ],
      "text/plain": [
       "            count          mean            std          min           25%  \\\n",
       "nquest     5814.0  1.932473e+08  194582.029632  192956123.0  1.930918e+08   \n",
       "idade1     5814.0  4.113158e+01      16.320284         16.0  2.700000e+01   \n",
       "nfilhos    5814.0  1.517028e+00       1.626051          0.0  0.000000e+00   \n",
       "rendacat   5814.0  9.498280e+00      20.066608          1.0  1.000000e+00   \n",
       "escolacat  5814.0  4.400585e+00       1.800569          1.0  3.000000e+00   \n",
       "p64b       5814.0  4.543516e+00       4.966679          1.0  4.000000e+00   \n",
       "p64g       5814.0  2.767458e+00       6.651658          1.0  1.000000e+00   \n",
       "p64h       5814.0  2.424321e+00       4.699616          1.0  1.000000e+00   \n",
       "\n",
       "                   50%           75%          max  \n",
       "nquest     193176180.0  1.933947e+08  193925880.0  \n",
       "idade1            40.0  5.400000e+01         90.0  \n",
       "nfilhos            1.0  2.000000e+00         10.0  \n",
       "rendacat           4.0  9.000000e+00         99.0  \n",
       "escolacat          5.0  5.000000e+00          8.0  \n",
       "p64b               5.0  5.000000e+00         99.0  \n",
       "p64g               1.0  4.000000e+00         99.0  \n",
       "p64h               1.0  4.000000e+00         99.0  "
      ]
     },
     "execution_count": 84,
     "metadata": {},
     "output_type": "execute_result"
    }
   ],
   "source": [
    "df_invest.describe().T"
   ]
  },
  {
   "cell_type": "markdown",
   "metadata": {},
   "source": [
    "## Análise do Perfil"
   ]
  },
  {
   "cell_type": "markdown",
   "metadata": {},
   "source": [
    "### idade vs perfil"
   ]
  },
  {
   "cell_type": "code",
   "execution_count": 85,
   "metadata": {},
   "outputs": [
    {
     "data": {
      "image/png": "[encoded data removed]",
      "text/plain": [
       "<Figure size 1000x600 with 1 Axes>"
      ]
     },
     "metadata": {},
     "output_type": "display_data"
    }
   ],
   "source": [
    "# definir tamanho da figura\n",
    "plt.figure(figsize=(10, 6))\n",
    "\n",
    "\n",
    "sns.countplot(data = df_invest,\n",
    "              x = 'perfil', \n",
    "              hue = 'faixa etária')\n",
    "\n",
    "# definir texto do título e eixos x e y\n",
    "\n",
    "plt.title('Perfil por faixa etária')\n",
    "plt.xlabel('Faixa etária')\n",
    "plt.ylabel('Contagem')\n",
    "\n",
    "# plotar e definir texto da legenda\n",
    "plt.legend(title = 'Faixa etária')\n",
    "\n",
    "plt.show()"
   ]
  },
  {
   "cell_type": "markdown",
   "metadata": {},
   "source": [
    "### renda vs perfil"
   ]
  },
  {
   "cell_type": "code",
   "execution_count": 86,
   "metadata": {},
   "outputs": [
    {
     "data": {
      "text/plain": [
       "perfil      renda                           \n",
       "apostador   Até R$ 1.320,00                     0.305419\n",
       "            De R$ 1.321,00 Até R$ 2.640,00      0.295567\n",
       "            De R$ 2.640,00 Até R$ 3.960,00      0.192118\n",
       "            De R$ 3.961,00 Até R$ 6.600,00      0.103448\n",
       "            De R$ 6.601,00 Até R$ 13.200,00     0.039409\n",
       "            Não sabe                            0.024631\n",
       "            De R$ 13.201,00 Até R$ 26.400,00    0.019704\n",
       "            Recusa                              0.014778\n",
       "            R$ 66.001,00 ou mais                0.004926\n",
       "investidor  Até R$ 1.320,00                     0.433078\n",
       "            De R$ 1.321,00 Até R$ 2.640,00      0.253965\n",
       "            De R$ 2.640,00 Até R$ 3.960,00      0.126181\n",
       "            De R$ 3.961,00 Até R$ 6.600,00      0.080200\n",
       "            De R$ 6.601,00 Até R$ 13.200,00     0.042773\n",
       "            Não sabe                            0.035110\n",
       "            Recusa                              0.012119\n",
       "            De R$ 13.201,00 Até R$ 26.400,00    0.011941\n",
       "            De R$ 26.401,00 Até R$ 66.000,00    0.003208\n",
       "            R$ 66.001,00 ou mais                0.001426\n",
       "Name: proportion, dtype: float64"
      ]
     },
     "execution_count": 86,
     "metadata": {},
     "output_type": "execute_result"
    }
   ],
   "source": [
    "df_invest.groupby('perfil')['renda'].value_counts(normalize=True)"
   ]
  },
  {
   "cell_type": "code",
   "execution_count": 87,
   "metadata": {},
   "outputs": [
    {
     "data": {
      "text/html": [
       "<div>\n",
       "<style scoped>\n",
       "    .dataframe tbody tr th:only-of-type {\n",
       "        vertical-align: middle;\n",
       "    }\n",
       "\n",
       "    .dataframe tbody tr th {\n",
       "        vertical-align: top;\n",
       "    }\n",
       "\n",
       "    .dataframe thead th {\n",
       "        text-align: right;\n",
       "    }\n",
       "</style>\n",
       "<table border=\"1\" class=\"dataframe\">\n",
       "  <thead>\n",
       "    <tr style=\"text-align: right;\">\n",
       "      <th>renda</th>\n",
       "      <th>Até R$ 1.320,00</th>\n",
       "      <th>De R$ 1.321,00 Até R$ 2.640,00</th>\n",
       "      <th>De R$ 13.201,00 Até R$ 26.400,00</th>\n",
       "      <th>De R$ 2.640,00 Até R$ 3.960,00</th>\n",
       "      <th>De R$ 26.401,00 Até R$ 66.000,00</th>\n",
       "      <th>De R$ 3.961,00 Até R$ 6.600,00</th>\n",
       "      <th>De R$ 6.601,00 Até R$ 13.200,00</th>\n",
       "      <th>Não sabe</th>\n",
       "      <th>R$ 66.001,00 ou mais</th>\n",
       "      <th>Recusa</th>\n",
       "    </tr>\n",
       "    <tr>\n",
       "      <th>perfil</th>\n",
       "      <th></th>\n",
       "      <th></th>\n",
       "      <th></th>\n",
       "      <th></th>\n",
       "      <th></th>\n",
       "      <th></th>\n",
       "      <th></th>\n",
       "      <th></th>\n",
       "      <th></th>\n",
       "      <th></th>\n",
       "    </tr>\n",
       "  </thead>\n",
       "  <tbody>\n",
       "    <tr>\n",
       "      <th>apostador</th>\n",
       "      <td>62</td>\n",
       "      <td>60</td>\n",
       "      <td>4</td>\n",
       "      <td>39</td>\n",
       "      <td>0</td>\n",
       "      <td>21</td>\n",
       "      <td>8</td>\n",
       "      <td>5</td>\n",
       "      <td>1</td>\n",
       "      <td>3</td>\n",
       "    </tr>\n",
       "    <tr>\n",
       "      <th>investidor</th>\n",
       "      <td>2430</td>\n",
       "      <td>1425</td>\n",
       "      <td>67</td>\n",
       "      <td>708</td>\n",
       "      <td>18</td>\n",
       "      <td>450</td>\n",
       "      <td>240</td>\n",
       "      <td>197</td>\n",
       "      <td>8</td>\n",
       "      <td>68</td>\n",
       "    </tr>\n",
       "  </tbody>\n",
       "</table>\n",
       "</div>"
      ],
      "text/plain": [
       "renda       Até R$ 1.320,00  De R$ 1.321,00 Até R$ 2.640,00  \\\n",
       "perfil                                                        \n",
       "apostador                62                              60   \n",
       "investidor             2430                            1425   \n",
       "\n",
       "renda       De R$ 13.201,00 Até R$ 26.400,00  De R$ 2.640,00 Até R$ 3.960,00  \\\n",
       "perfil                                                                         \n",
       "apostador                                  4                              39   \n",
       "investidor                                67                             708   \n",
       "\n",
       "renda       De R$ 26.401,00 Até R$ 66.000,00  De R$ 3.961,00 Até R$ 6.600,00  \\\n",
       "perfil                                                                         \n",
       "apostador                                  0                              21   \n",
       "investidor                                18                             450   \n",
       "\n",
       "renda       De R$ 6.601,00 Até R$ 13.200,00  Não sabe  R$ 66.001,00 ou mais  \\\n",
       "perfil                                                                        \n",
       "apostador                                 8         5                     1   \n",
       "investidor                              240       197                     8   \n",
       "\n",
       "renda       Recusa  \n",
       "perfil              \n",
       "apostador        3  \n",
       "investidor      68  "
      ]
     },
     "execution_count": 87,
     "metadata": {},
     "output_type": "execute_result"
    }
   ],
   "source": [
    "relacao = pd.crosstab(df_invest['perfil'], df_invest['renda'])\n",
    "relacao"
   ]
  },
  {
   "cell_type": "code",
   "execution_count": 88,
   "metadata": {},
   "outputs": [
    {
     "name": "stdout",
     "output_type": "stream",
     "text": [
      "Estatística Qui-Quadrado: 20.666416257050255\n",
      "Valor-p: 0.014216826826916013\n"
     ]
    }
   ],
   "source": [
    "#O nível de significância foi menor que 0.05 (0.01), então rejeitamos a hipótese nula de que não há associação entre as variáveis.\n",
    "# Isso sugere que existe uma relação significativa entre ser um investidor ou apostador e a renda.\n",
    "chi2, p, dof, expected = chi2_contingency(relacao)\n",
    "print(f'Estatística Qui-Quadrado: {chi2}')\n",
    "print(f'Valor-p: {p}')\n"
   ]
  },
  {
   "cell_type": "markdown",
   "metadata": {},
   "source": [
    "### Classe social vs perfil"
   ]
  },
  {
   "cell_type": "code",
   "execution_count": 89,
   "metadata": {},
   "outputs": [
    {
     "data": {
      "text/plain": [
       "perfil      RCLASSE2\n",
       "apostador   C2          0.251232\n",
       "            B2          0.221675\n",
       "            C1          0.201970\n",
       "            D/E         0.187192\n",
       "            A           0.068966\n",
       "            B1          0.068966\n",
       "investidor  C2          0.273926\n",
       "            D/E         0.267510\n",
       "            C1          0.208697\n",
       "            B2          0.169845\n",
       "            B1          0.049011\n",
       "            A           0.031011\n",
       "Name: proportion, dtype: float64"
      ]
     },
     "execution_count": 89,
     "metadata": {},
     "output_type": "execute_result"
    }
   ],
   "source": [
    "df_invest.groupby('perfil')['RCLASSE2'].value_counts(normalize=True)"
   ]
  },
  {
   "cell_type": "code",
   "execution_count": 90,
   "metadata": {},
   "outputs": [
    {
     "data": {
      "image/png": "[encoded data removed]",
      "text/plain": [
       "<Figure size 1000x600 with 1 Axes>"
      ]
     },
     "metadata": {},
     "output_type": "display_data"
    }
   ],
   "source": [
    "# definir tamanho da figura\n",
    "plt.figure(figsize=(10, 6))\n",
    "\n",
    "\n",
    "sns.countplot(data = df_invest,\n",
    "              x = 'perfil', \n",
    "              hue = 'RCLASSE2')\n",
    "\n",
    "# definir texto do título e eixos x e y\n",
    "\n",
    "plt.title('Perfil por Classe Social')\n",
    "plt.xlabel('Classe Social')\n",
    "plt.ylabel('Contagem')\n",
    "\n",
    "# plotar e definir texto da legenda\n",
    "plt.legend(title = 'Faixa etária')\n",
    "\n",
    "plt.show()"
   ]
  },
  {
   "cell_type": "markdown",
   "metadata": {},
   "source": [
    "### genero vs perfil"
   ]
  },
  {
   "cell_type": "code",
   "execution_count": 91,
   "metadata": {},
   "outputs": [
    {
     "data": {
      "text/plain": [
       "perfil      sexo     \n",
       "apostador   Masculino    0.753695\n",
       "            Feminino     0.246305\n",
       "investidor  Feminino     0.525040\n",
       "            Masculino    0.474960\n",
       "Name: proportion, dtype: float64"
      ]
     },
     "execution_count": 91,
     "metadata": {},
     "output_type": "execute_result"
    }
   ],
   "source": [
    "resultado = df_invest.groupby('perfil')['sexo'].value_counts(normalize=True)\n",
    "resultado"
   ]
  },
  {
   "cell_type": "code",
   "execution_count": 92,
   "metadata": {},
   "outputs": [
    {
     "data": {
      "image/png": "[encoded data removed]",
      "text/plain": [
       "<Figure size 1000x600 with 1 Axes>"
      ]
     },
     "metadata": {},
     "output_type": "display_data"
    }
   ],
   "source": [
    "# definir tamanho da figura\n",
    "plt.figure(figsize=(10, 6))\n",
    "\n",
    "\n",
    "sns.countplot(data = df_invest,\n",
    "              x = 'perfil', \n",
    "              hue = 'sexo')\n",
    "\n",
    "# definir texto do título e eixos x e y\n",
    "\n",
    "plt.title('Perfil por gênero')\n",
    "plt.xlabel('Gênero')\n",
    "plt.ylabel('Contagem')\n",
    "\n",
    "# plotar e definir texto da legenda\n",
    "plt.legend(title = 'Faixa etária')\n",
    "\n",
    "plt.show()"
   ]
  },
  {
   "cell_type": "markdown",
   "metadata": {},
   "source": [
    "### regiao vs perfil"
   ]
  },
  {
   "cell_type": "code",
   "execution_count": 93,
   "metadata": {},
   "outputs": [
    {
     "data": {
      "text/plain": [
       "perfil      REGIAO      \n",
       "apostador   Sudeste         0.413793\n",
       "            Nordeste        0.344828\n",
       "            Sul             0.118227\n",
       "            Norte           0.083744\n",
       "            Centro Oeste    0.039409\n",
       "investidor  Sudeste         0.431296\n",
       "            Nordeste        0.262698\n",
       "            Sul             0.145963\n",
       "            Centro Oeste    0.080912\n",
       "            Norte           0.079130\n",
       "Name: proportion, dtype: float64"
      ]
     },
     "execution_count": 93,
     "metadata": {},
     "output_type": "execute_result"
    }
   ],
   "source": [
    "df_invest.groupby('perfil')['REGIAO'].value_counts(normalize=True)"
   ]
  },
  {
   "cell_type": "code",
   "execution_count": 94,
   "metadata": {},
   "outputs": [
    {
     "data": {
      "image/png": "[encoded data removed]",
      "text/plain": [
       "<Figure size 1000x600 with 1 Axes>"
      ]
     },
     "metadata": {},
     "output_type": "display_data"
    }
   ],
   "source": [
    "# definir tamanho da figura\n",
    "plt.figure(figsize=(10, 6))\n",
    "\n",
    "\n",
    "sns.countplot(data = df_invest,\n",
    "              x = 'perfil', \n",
    "              hue = 'REGIAO')\n",
    "\n",
    "# definir texto do título e eixos x e y\n",
    "\n",
    "plt.title('Perfil por Região')\n",
    "plt.xlabel('Região')\n",
    "plt.ylabel('Contagem')\n",
    "\n",
    "# plotar e definir texto da legenda\n",
    "plt.legend(title = 'Região do País')\n",
    "\n",
    "plt.show()"
   ]
  },
  {
   "cell_type": "markdown",
   "metadata": {},
   "source": [
    "### Escolaridade vs perfil "
   ]
  },
  {
   "cell_type": "code",
   "execution_count": 95,
   "metadata": {},
   "outputs": [
    {
     "data": {
      "text/html": [
       "<div>\n",
       "<style scoped>\n",
       "    .dataframe tbody tr th:only-of-type {\n",
       "        vertical-align: middle;\n",
       "    }\n",
       "\n",
       "    .dataframe tbody tr th {\n",
       "        vertical-align: top;\n",
       "    }\n",
       "\n",
       "    .dataframe thead th {\n",
       "        text-align: right;\n",
       "    }\n",
       "</style>\n",
       "<table border=\"1\" class=\"dataframe\">\n",
       "  <thead>\n",
       "    <tr style=\"text-align: right;\">\n",
       "      <th>escola</th>\n",
       "      <th>Analfabeto/ Fundamental I incompleto</th>\n",
       "      <th>Ensino Médio completo</th>\n",
       "      <th>Ensino Médio incompleto</th>\n",
       "      <th>Fundamental I completo/ Fundamental II incompleto</th>\n",
       "      <th>Fundamental II completo</th>\n",
       "      <th>Pós-graduação</th>\n",
       "      <th>Superior completo</th>\n",
       "      <th>Superior incompleto</th>\n",
       "    </tr>\n",
       "    <tr>\n",
       "      <th>perfil</th>\n",
       "      <th></th>\n",
       "      <th></th>\n",
       "      <th></th>\n",
       "      <th></th>\n",
       "      <th></th>\n",
       "      <th></th>\n",
       "      <th></th>\n",
       "      <th></th>\n",
       "    </tr>\n",
       "  </thead>\n",
       "  <tbody>\n",
       "    <tr>\n",
       "      <th>apostador</th>\n",
       "      <td>3</td>\n",
       "      <td>100</td>\n",
       "      <td>43</td>\n",
       "      <td>17</td>\n",
       "      <td>7</td>\n",
       "      <td>6</td>\n",
       "      <td>11</td>\n",
       "      <td>16</td>\n",
       "    </tr>\n",
       "    <tr>\n",
       "      <th>investidor</th>\n",
       "      <td>450</td>\n",
       "      <td>2167</td>\n",
       "      <td>740</td>\n",
       "      <td>752</td>\n",
       "      <td>359</td>\n",
       "      <td>206</td>\n",
       "      <td>538</td>\n",
       "      <td>399</td>\n",
       "    </tr>\n",
       "  </tbody>\n",
       "</table>\n",
       "</div>"
      ],
      "text/plain": [
       "escola      Analfabeto/ Fundamental I incompleto  Ensino Médio completo  \\\n",
       "perfil                                                                    \n",
       "apostador                                      3                    100   \n",
       "investidor                                   450                   2167   \n",
       "\n",
       "escola      Ensino Médio incompleto  \\\n",
       "perfil                                \n",
       "apostador                        43   \n",
       "investidor                      740   \n",
       "\n",
       "escola      Fundamental I completo/ Fundamental II incompleto  \\\n",
       "perfil                                                          \n",
       "apostador                                                  17   \n",
       "investidor                                                752   \n",
       "\n",
       "escola      Fundamental II completo  Pós-graduação  Superior completo  \\\n",
       "perfil                                                                  \n",
       "apostador                         7              6                 11   \n",
       "investidor                      359            206                538   \n",
       "\n",
       "escola      Superior incompleto  \n",
       "perfil                           \n",
       "apostador                    16  \n",
       "investidor                  399  "
      ]
     },
     "execution_count": 95,
     "metadata": {},
     "output_type": "execute_result"
    }
   ],
   "source": [
    "perfil_escolar = pd.pivot_table(df_invest, index='perfil', columns='escola', aggfunc='size', fill_value=0)\n",
    "perfil_escolar\n"
   ]
  },
  {
   "cell_type": "code",
   "execution_count": 96,
   "metadata": {},
   "outputs": [
    {
     "data": {
      "text/plain": [
       "perfil      escola                                           \n",
       "apostador   Ensino Médio completo                                0.492611\n",
       "            Ensino Médio incompleto                              0.211823\n",
       "            Fundamental I completo/ Fundamental II incompleto    0.083744\n",
       "            Superior incompleto                                  0.078818\n",
       "            Superior completo                                    0.054187\n",
       "            Fundamental II completo                              0.034483\n",
       "            Pós-graduação                                        0.029557\n",
       "            Analfabeto/ Fundamental I incompleto                 0.014778\n",
       "investidor  Ensino Médio completo                                0.386206\n",
       "            Fundamental I completo/ Fundamental II incompleto    0.134022\n",
       "            Ensino Médio incompleto                              0.131884\n",
       "            Superior completo                                    0.095883\n",
       "            Analfabeto/ Fundamental I incompleto                 0.080200\n",
       "            Superior incompleto                                  0.071110\n",
       "            Fundamental II completo                              0.063981\n",
       "            Pós-graduação                                        0.036714\n",
       "Name: proportion, dtype: float64"
      ]
     },
     "execution_count": 96,
     "metadata": {},
     "output_type": "execute_result"
    }
   ],
   "source": [
    "df_invest.groupby('perfil')['escola'].value_counts(normalize=True)\n"
   ]
  },
  {
   "cell_type": "code",
   "execution_count": 97,
   "metadata": {},
   "outputs": [
    {
     "data": {
      "image/png": "[encoded data removed]",
      "text/plain": [
       "<Figure size 1000x600 with 1 Axes>"
      ]
     },
     "metadata": {},
     "output_type": "display_data"
    }
   ],
   "source": [
    "# definir tamanho da figura\n",
    "plt.figure(figsize=(10, 6))\n",
    "\n",
    "\n",
    "sns.countplot(data = df_invest,\n",
    "              x = 'perfil', \n",
    "              hue = 'escola')\n",
    "\n",
    "# definir texto do título e eixos x e y\n",
    "\n",
    "plt.title('Perfil por Escolaridade')\n",
    "plt.xlabel('Escolaridade')\n",
    "plt.ylabel('Contagem')\n",
    "\n",
    "# plotar e definir texto da legenda\n",
    "plt.legend(title = 'Escolaridade')\n",
    "\n",
    "plt.show()"
   ]
  },
  {
   "cell_type": "markdown",
   "metadata": {},
   "source": [
    "### Raça vs perfil"
   ]
  },
  {
   "cell_type": "code",
   "execution_count": 98,
   "metadata": {},
   "outputs": [
    {
     "data": {
      "text/html": [
       "<div>\n",
       "<style scoped>\n",
       "    .dataframe tbody tr th:only-of-type {\n",
       "        vertical-align: middle;\n",
       "    }\n",
       "\n",
       "    .dataframe tbody tr th {\n",
       "        vertical-align: top;\n",
       "    }\n",
       "\n",
       "    .dataframe thead th {\n",
       "        text-align: right;\n",
       "    }\n",
       "</style>\n",
       "<table border=\"1\" class=\"dataframe\">\n",
       "  <thead>\n",
       "    <tr style=\"text-align: right;\">\n",
       "      <th>cor</th>\n",
       "      <th>Amarela</th>\n",
       "      <th>Branca</th>\n",
       "      <th>Indigena</th>\n",
       "      <th>Outras</th>\n",
       "      <th>Parda</th>\n",
       "      <th>Preta</th>\n",
       "    </tr>\n",
       "    <tr>\n",
       "      <th>perfil</th>\n",
       "      <th></th>\n",
       "      <th></th>\n",
       "      <th></th>\n",
       "      <th></th>\n",
       "      <th></th>\n",
       "      <th></th>\n",
       "    </tr>\n",
       "  </thead>\n",
       "  <tbody>\n",
       "    <tr>\n",
       "      <th>apostador</th>\n",
       "      <td>8</td>\n",
       "      <td>50</td>\n",
       "      <td>2</td>\n",
       "      <td>7</td>\n",
       "      <td>89</td>\n",
       "      <td>47</td>\n",
       "    </tr>\n",
       "    <tr>\n",
       "      <th>investidor</th>\n",
       "      <td>120</td>\n",
       "      <td>1740</td>\n",
       "      <td>78</td>\n",
       "      <td>235</td>\n",
       "      <td>2439</td>\n",
       "      <td>999</td>\n",
       "    </tr>\n",
       "  </tbody>\n",
       "</table>\n",
       "</div>"
      ],
      "text/plain": [
       "cor         Amarela  Branca  Indigena  Outras  Parda  Preta\n",
       "perfil                                                     \n",
       "apostador         8      50         2       7     89     47\n",
       "investidor      120    1740        78     235   2439    999"
      ]
     },
     "execution_count": 98,
     "metadata": {},
     "output_type": "execute_result"
    }
   ],
   "source": [
    "perfil_raca = pd.pivot_table(df_invest, index='perfil', columns='cor', aggfunc='size', fill_value=0)\n",
    "perfil_raca"
   ]
  },
  {
   "cell_type": "code",
   "execution_count": 99,
   "metadata": {},
   "outputs": [
    {
     "data": {
      "text/html": [
       "<div>\n",
       "<style scoped>\n",
       "    .dataframe tbody tr th:only-of-type {\n",
       "        vertical-align: middle;\n",
       "    }\n",
       "\n",
       "    .dataframe tbody tr th {\n",
       "        vertical-align: top;\n",
       "    }\n",
       "\n",
       "    .dataframe thead th {\n",
       "        text-align: right;\n",
       "    }\n",
       "</style>\n",
       "<table border=\"1\" class=\"dataframe\">\n",
       "  <thead>\n",
       "    <tr style=\"text-align: right;\">\n",
       "      <th>cor</th>\n",
       "      <th>Amarela</th>\n",
       "      <th>Branca</th>\n",
       "      <th>Indigena</th>\n",
       "      <th>Outras</th>\n",
       "      <th>Parda</th>\n",
       "      <th>Preta</th>\n",
       "    </tr>\n",
       "    <tr>\n",
       "      <th>perfil</th>\n",
       "      <th></th>\n",
       "      <th></th>\n",
       "      <th></th>\n",
       "      <th></th>\n",
       "      <th></th>\n",
       "      <th></th>\n",
       "    </tr>\n",
       "  </thead>\n",
       "  <tbody>\n",
       "    <tr>\n",
       "      <th>apostador</th>\n",
       "      <td>3.940887</td>\n",
       "      <td>24.630542</td>\n",
       "      <td>0.985222</td>\n",
       "      <td>3.448276</td>\n",
       "      <td>43.842365</td>\n",
       "      <td>23.152709</td>\n",
       "    </tr>\n",
       "    <tr>\n",
       "      <th>investidor</th>\n",
       "      <td>2.138656</td>\n",
       "      <td>31.010515</td>\n",
       "      <td>1.390127</td>\n",
       "      <td>4.188202</td>\n",
       "      <td>43.468187</td>\n",
       "      <td>17.804313</td>\n",
       "    </tr>\n",
       "  </tbody>\n",
       "</table>\n",
       "</div>"
      ],
      "text/plain": [
       "cor          Amarela     Branca  Indigena    Outras      Parda      Preta\n",
       "perfil                                                                   \n",
       "apostador   3.940887  24.630542  0.985222  3.448276  43.842365  23.152709\n",
       "investidor  2.138656  31.010515  1.390127  4.188202  43.468187  17.804313"
      ]
     },
     "execution_count": 99,
     "metadata": {},
     "output_type": "execute_result"
    }
   ],
   "source": [
    "perfil_raca_porcentagem = perfil_raca.div(perfil_raca.sum(axis=1), axis=0)*100\n",
    "perfil_raca_porcentagem"
   ]
  },
  {
   "cell_type": "markdown",
   "metadata": {},
   "source": [
    "### Estado Civil vs perfil"
   ]
  },
  {
   "cell_type": "code",
   "execution_count": 100,
   "metadata": {},
   "outputs": [
    {
     "data": {
      "text/html": [
       "<div>\n",
       "<style scoped>\n",
       "    .dataframe tbody tr th:only-of-type {\n",
       "        vertical-align: middle;\n",
       "    }\n",
       "\n",
       "    .dataframe tbody tr th {\n",
       "        vertical-align: top;\n",
       "    }\n",
       "\n",
       "    .dataframe thead th {\n",
       "        text-align: right;\n",
       "    }\n",
       "</style>\n",
       "<table border=\"1\" class=\"dataframe\">\n",
       "  <thead>\n",
       "    <tr style=\"text-align: right;\">\n",
       "      <th>estcivil</th>\n",
       "      <th>Casado(a)/com companheiro(a)</th>\n",
       "      <th>Separado/Divorciado</th>\n",
       "      <th>Solteiro (a)</th>\n",
       "      <th>Viuvo(a)</th>\n",
       "    </tr>\n",
       "    <tr>\n",
       "      <th>perfil</th>\n",
       "      <th></th>\n",
       "      <th></th>\n",
       "      <th></th>\n",
       "      <th></th>\n",
       "    </tr>\n",
       "  </thead>\n",
       "  <tbody>\n",
       "    <tr>\n",
       "      <th>apostador</th>\n",
       "      <td>34.482759</td>\n",
       "      <td>3.448276</td>\n",
       "      <td>60.591133</td>\n",
       "      <td>1.477833</td>\n",
       "    </tr>\n",
       "    <tr>\n",
       "      <th>investidor</th>\n",
       "      <td>41.525575</td>\n",
       "      <td>9.517020</td>\n",
       "      <td>43.788986</td>\n",
       "      <td>5.168419</td>\n",
       "    </tr>\n",
       "  </tbody>\n",
       "</table>\n",
       "</div>"
      ],
      "text/plain": [
       "estcivil    Casado(a)/com companheiro(a)  Separado/Divorciado  Solteiro (a)  \\\n",
       "perfil                                                                        \n",
       "apostador                      34.482759             3.448276     60.591133   \n",
       "investidor                     41.525575             9.517020     43.788986   \n",
       "\n",
       "estcivil    Viuvo(a)  \n",
       "perfil                \n",
       "apostador   1.477833  \n",
       "investidor  5.168419  "
      ]
     },
     "execution_count": 100,
     "metadata": {},
     "output_type": "execute_result"
    }
   ],
   "source": [
    "perfil_estciv = pd.pivot_table(df_invest, index='perfil', columns='estcivil', aggfunc='size', fill_value=0)\n",
    "perfil_estciv_porcentagem = perfil_estciv.div(perfil_estciv.sum(axis=1), axis=0)*100\n",
    "perfil_estciv_porcentagem"
   ]
  },
  {
   "cell_type": "code",
   "execution_count": 169,
   "metadata": {},
   "outputs": [
    {
     "data": {
      "image/png": "[encoded data removed]",
      "text/plain": [
       "<Figure size 1000x600 with 1 Axes>"
      ]
     },
     "metadata": {},
     "output_type": "display_data"
    }
   ],
   "source": [
    "# definir tamanho da figura\n",
    "plt.figure(figsize=(10, 6))\n",
    "\n",
    "\n",
    "sns.countplot(data = df_invest,\n",
    "              x = 'perfil', \n",
    "              hue = 'estcivil')\n",
    "\n",
    "# definir texto do título e eixos x e y\n",
    "\n",
    "plt.title('Perfil por Estado Civil')\n",
    "plt.xlabel('Estado Civil')\n",
    "plt.ylabel('Contagem')\n",
    "\n",
    "# plotar e definir texto da legenda\n",
    "plt.legend(title = 'Estado Civil')\n",
    "\n",
    "plt.show()"
   ]
  },
  {
   "cell_type": "markdown",
   "metadata": {},
   "source": [
    "### Quantidade de filhos vs perfil"
   ]
  },
  {
   "cell_type": "code",
   "execution_count": 101,
   "metadata": {},
   "outputs": [
    {
     "data": {
      "text/html": [
       "<div>\n",
       "<style scoped>\n",
       "    .dataframe tbody tr th:only-of-type {\n",
       "        vertical-align: middle;\n",
       "    }\n",
       "\n",
       "    .dataframe tbody tr th {\n",
       "        vertical-align: top;\n",
       "    }\n",
       "\n",
       "    .dataframe thead th {\n",
       "        text-align: right;\n",
       "    }\n",
       "</style>\n",
       "<table border=\"1\" class=\"dataframe\">\n",
       "  <thead>\n",
       "    <tr style=\"text-align: right;\">\n",
       "      <th>nfilhos</th>\n",
       "      <th>0</th>\n",
       "      <th>1</th>\n",
       "      <th>2</th>\n",
       "      <th>3</th>\n",
       "      <th>4</th>\n",
       "      <th>5</th>\n",
       "      <th>6</th>\n",
       "      <th>7</th>\n",
       "      <th>8</th>\n",
       "      <th>9</th>\n",
       "      <th>10</th>\n",
       "    </tr>\n",
       "    <tr>\n",
       "      <th>perfil</th>\n",
       "      <th></th>\n",
       "      <th></th>\n",
       "      <th></th>\n",
       "      <th></th>\n",
       "      <th></th>\n",
       "      <th></th>\n",
       "      <th></th>\n",
       "      <th></th>\n",
       "      <th></th>\n",
       "      <th></th>\n",
       "      <th></th>\n",
       "    </tr>\n",
       "  </thead>\n",
       "  <tbody>\n",
       "    <tr>\n",
       "      <th>apostador</th>\n",
       "      <td>50.738916</td>\n",
       "      <td>22.660099</td>\n",
       "      <td>14.778325</td>\n",
       "      <td>6.896552</td>\n",
       "      <td>2.463054</td>\n",
       "      <td>0.492611</td>\n",
       "      <td>1.477833</td>\n",
       "      <td>0.000000</td>\n",
       "      <td>0.000000</td>\n",
       "      <td>0.492611</td>\n",
       "      <td>0.00000</td>\n",
       "    </tr>\n",
       "    <tr>\n",
       "      <th>investidor</th>\n",
       "      <td>35.287827</td>\n",
       "      <td>20.139013</td>\n",
       "      <td>21.154874</td>\n",
       "      <td>12.742827</td>\n",
       "      <td>5.471395</td>\n",
       "      <td>2.637676</td>\n",
       "      <td>1.407949</td>\n",
       "      <td>0.481198</td>\n",
       "      <td>0.285154</td>\n",
       "      <td>0.142577</td>\n",
       "      <td>0.24951</td>\n",
       "    </tr>\n",
       "  </tbody>\n",
       "</table>\n",
       "</div>"
      ],
      "text/plain": [
       "nfilhos            0          1          2          3         4         5   \\\n",
       "perfil                                                                       \n",
       "apostador   50.738916  22.660099  14.778325   6.896552  2.463054  0.492611   \n",
       "investidor  35.287827  20.139013  21.154874  12.742827  5.471395  2.637676   \n",
       "\n",
       "nfilhos           6         7         8         9        10  \n",
       "perfil                                                       \n",
       "apostador   1.477833  0.000000  0.000000  0.492611  0.00000  \n",
       "investidor  1.407949  0.481198  0.285154  0.142577  0.24951  "
      ]
     },
     "execution_count": 101,
     "metadata": {},
     "output_type": "execute_result"
    }
   ],
   "source": [
    "perfil_nfilhos = pd.pivot_table(df_invest, index='perfil', columns='nfilhos', aggfunc='size', fill_value=0)\n",
    "perfil_nfilhos_porcentagem = perfil_nfilhos.div(perfil_nfilhos.sum(axis=1), axis=0)*100\n",
    "perfil_nfilhos_porcentagem"
   ]
  },
  {
   "cell_type": "markdown",
   "metadata": {},
   "source": [
    "## Impacto relações próximas"
   ]
  },
  {
   "cell_type": "code",
   "execution_count": 127,
   "metadata": {},
   "outputs": [
    {
     "name": "stdout",
     "output_type": "stream",
     "text": [
      "                    p64g       p64h\n",
      "perfil                             \n",
      "apostador  1   49.261084  46.798030\n",
      "           2    8.866995  10.837438\n",
      "           3    0.492611   0.000000\n",
      "           4   17.241379   8.866995\n",
      "           5   23.645320  33.497537\n",
      "           99   0.492611   0.000000\n",
      "investidor 1   51.345571  60.256639\n",
      "           2   15.041882   8.750668\n",
      "           3    0.588130   0.302976\n",
      "           4   14.453752  10.835858\n",
      "           5   18.125111  19.639993\n",
      "           99   0.445553   0.213866\n"
     ]
    }
   ],
   "source": [
    "#p64g - QUESTõES FINANCEIRAS FREQUENTEMENTE SãO MOTIVO DE DISCÓRDIA NA MINHA CASA'\n",
    "#p64h - eu já briguei com amigos e/ou familiares por causa de dinheiro\n",
    "\n",
    "contagem_discordia = df_invest.groupby('perfil')['p64g'].value_counts(normalize=True) *100\n",
    "contagem_briga = df_invest.groupby('perfil')['p64h'].value_counts(normalize=True) * 100\n",
    "\n",
    "resultado_impacto = pd.DataFrame({\n",
    "    'p64g': contagem_discordia,\n",
    "    'p64h': contagem_briga\n",
    "}).fillna(0)\n",
    "\n",
    "print(resultado_discordia)\n"
   ]
  },
  {
   "cell_type": "markdown",
   "metadata": {},
   "source": [
    "#### Criando o constructo"
   ]
  },
  {
   "cell_type": "markdown",
   "metadata": {},
   "source": [
    "## Como se informam"
   ]
  },
  {
   "cell_type": "code",
   "execution_count": 157,
   "metadata": {},
   "outputs": [
    {
     "data": {
      "text/plain": [
       "perfil      p52aa             \n",
       "apostador   Youtube               0.404762\n",
       "            Instagram             0.273810\n",
       "            WhatsApp              0.107143\n",
       "            Portal / site         0.059524\n",
       "            Televisao             0.047619\n",
       "            Linkedin              0.023810\n",
       "            Podcasts              0.023810\n",
       "            Telegram              0.023810\n",
       "            E-mail                0.011905\n",
       "            Facebook              0.011905\n",
       "            Nenhum                0.011905\n",
       "investidor  Youtube               0.348072\n",
       "            Portal / site         0.133162\n",
       "            Instagram             0.121337\n",
       "            Nenhum                0.100257\n",
       "            Televisao             0.098201\n",
       "            WhatsApp              0.074036\n",
       "            Radio                 0.035990\n",
       "            Revistas / jornais    0.023136\n",
       "            Linkedin              0.018509\n",
       "            E-mail                0.013368\n",
       "            Podcasts              0.011825\n",
       "            Facebook              0.007712\n",
       "            Não sabe              0.007198\n",
       "            14                    0.003599\n",
       "            Telegram              0.002057\n",
       "            Twitter               0.001542\n",
       "Name: proportion, dtype: float64"
      ]
     },
     "execution_count": 157,
     "metadata": {},
     "output_type": "execute_result"
    }
   ],
   "source": [
    "#p52aa- quais canais usa para se informar? \n",
    "\n",
    "canais = df_invest[df_invest['p52aa'] != '0']\n",
    "\n",
    "canais.groupby('perfil')['p52aa'].value_counts(normalize=True)\n"
   ]
  },
  {
   "cell_type": "code",
   "execution_count": 160,
   "metadata": {},
   "outputs": [
    {
     "data": {
      "text/plain": [
       "perfil      p55\n",
       "apostador   Nao    0.612613\n",
       "            Sim    0.387387\n",
       "investidor  Nao    0.724714\n",
       "            Sim    0.275286\n",
       "Name: proportion, dtype: float64"
      ]
     },
     "execution_count": 160,
     "metadata": {},
     "output_type": "execute_result"
    }
   ],
   "source": [
    "#p55 - você já chegou a procurar informações e dicas sobre onde aplicar dinheiro?\n",
    "buscou = df_invest[df_invest['p55'] != '0']\n",
    "\n",
    "buscou.groupby('perfil')['p55'].value_counts(normalize=True)"
   ]
  },
  {
   "cell_type": "code",
   "execution_count": 161,
   "metadata": {},
   "outputs": [
    {
     "data": {
      "text/plain": [
       "perfil      p56                                                                                                                     \n",
       "apostador   Internet/ Google/ Redes Sociais (Facebook, Instagram)/ YouTube                                                              0.325581\n",
       "            Amigos/ Parentes                                                                                                            0.279070\n",
       "            Sites de noticias                                                                                                           0.232558\n",
       "            Aplicativos de corretoras e investimentos (do banco/ bancos digitais)                                                       0.046512\n",
       "            Presencialmente, ou seja, falando com o gerente ou com o assessor/ especialista de investimento. (presencialmente na age    0.046512\n",
       "            Banco/ gerente de banco (sem especificar)                                                                                   0.023256\n",
       "            Cursos/ cursos online/ palestras/ na faculdade/ escola/ professor                                                           0.023256\n",
       "            Outras respostas                                                                                                            0.023256\n",
       "investidor  Amigos/ Parentes                                                                                                            0.206742\n",
       "            Sites de noticias                                                                                                           0.179775\n",
       "            Internet/ Google/ Redes Sociais (Facebook, Instagram)/ YouTube                                                              0.175281\n",
       "            Presencialmente, ou seja, falando com o gerente ou com o assessor/ especialista de investimento. (presencialmente na age    0.169663\n",
       "            Aplicativos de corretoras e investimentos (do banco/ bancos digitais)                                                       0.053933\n",
       "            Influenciadores que abordam assuntos sobre investimento                                                                     0.053933\n",
       "            Outras respostas                                                                                                            0.032584\n",
       "            Cursos/ cursos online/ palestras/ na faculdade/ escola/ professor                                                           0.028090\n",
       "            Consultorias de investimento                                                                                                0.021348\n",
       "            Meios de comunicacao (Radio/ TV/ jornal/ revistas)                                                                          0.020225\n",
       "            Blogs e foruns de investimentos/ Sites sobre investimentos/ educacao financeira/ economia                                   0.017978\n",
       "            Banco/ gerente de banco (sem especificar)                                                                                   0.013483\n",
       "            Por telefone, falando com o gerente ou com o assessor/ especialista de investimento                                         0.008989\n",
       "            Advogado/ contador                                                                                                          0.005618\n",
       "            Corretores                                                                                                                  0.004494\n",
       "            Livros                                                                                                                      0.003371\n",
       "            Não busca informAções                                                                                                       0.003371\n",
       "            Sebrae                                                                                                                      0.001124\n",
       "Name: proportion, dtype: float64"
      ]
     },
     "execution_count": 161,
     "metadata": {},
     "output_type": "execute_result"
    }
   ],
   "source": [
    "#p56 - onde buscou essas informações?\n",
    "onde = df_invest[df_invest['p56'] != '0']\n",
    "\n",
    "onde.groupby('perfil')['p56'].value_counts(normalize=True)"
   ]
  }
 ],
 "metadata": {
  "kernelspec": {
   "display_name": "Python 3",
   "language": "python",
   "name": "python3"
  },
  "language_info": {
   "codemirror_mode": {
    "name": "ipython",
    "version": 3
   },
   "file_extension": ".py",
   "mimetype": "text/x-python",
   "name": "python",
   "nbconvert_exporter": "python",
   "pygments_lexer": "ipython3",
   "version": "3.12.3"
  }
 },
 "nbformat": 4,
 "nbformat_minor": 2
}
