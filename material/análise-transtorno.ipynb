{
 "cells": [
  {
   "cell_type": "code",
   "execution_count": 9,
   "metadata": {},
   "outputs": [],
   "source": [
    "import seaborn as sns\n",
    "import pandas as pd\n",
    "import matplotlib.pyplot as plt\n",
    "import warnings\n",
    "warnings.filterwarnings('ignore')"
   ]
  },
  {
   "cell_type": "code",
   "execution_count": 10,
   "metadata": {},
   "outputs": [],
   "source": [
    "df = pd.read_csv('THALITA_PROJETO_FINAL.csv.csv')"
   ]
  },
  {
   "cell_type": "code",
   "execution_count": 11,
   "metadata": {},
   "outputs": [
    {
     "name": "stdout",
     "output_type": "stream",
     "text": [
      "O Dataframe possui 9 colunas e 59 linhas\n"
     ]
    }
   ],
   "source": [
    "dfrow, dfcol = df.shape\n",
    "print(f'O Dataframe possui {dfcol} colunas e {dfrow} linhas')"
   ]
  },
  {
   "cell_type": "code",
   "execution_count": 12,
   "metadata": {},
   "outputs": [
    {
     "data": {
      "text/html": [
       "<div>\n",
       "<style scoped>\n",
       "    .dataframe tbody tr th:only-of-type {\n",
       "        vertical-align: middle;\n",
       "    }\n",
       "\n",
       "    .dataframe tbody tr th {\n",
       "        vertical-align: top;\n",
       "    }\n",
       "\n",
       "    .dataframe thead th {\n",
       "        text-align: right;\n",
       "    }\n",
       "</style>\n",
       "<table border=\"1\" class=\"dataframe\">\n",
       "  <thead>\n",
       "    <tr style=\"text-align: right;\">\n",
       "      <th></th>\n",
       "      <th>Número do Paciente</th>\n",
       "      <th>Tristeza</th>\n",
       "      <th>Euforia</th>\n",
       "      <th>Problemas com o sono</th>\n",
       "      <th>Mudança de humor</th>\n",
       "      <th>Atividade Sexual</th>\n",
       "      <th>Concentração</th>\n",
       "      <th>Otimismo</th>\n",
       "      <th>Diagnóstico do Profissional</th>\n",
       "    </tr>\n",
       "  </thead>\n",
       "  <tbody>\n",
       "    <tr>\n",
       "      <th>0</th>\n",
       "      <td>Paciente-03</td>\n",
       "      <td>As Vezes</td>\n",
       "      <td>Maioria das Vezes</td>\n",
       "      <td>As Vezes</td>\n",
       "      <td>SIM</td>\n",
       "      <td>6</td>\n",
       "      <td>5</td>\n",
       "      <td>7</td>\n",
       "      <td>Bipolar Tipo-1</td>\n",
       "    </tr>\n",
       "    <tr>\n",
       "      <th>1</th>\n",
       "      <td>Paciente-07</td>\n",
       "      <td>Quase Nunca</td>\n",
       "      <td>Geralmente</td>\n",
       "      <td>As Vezes</td>\n",
       "      <td>SIM</td>\n",
       "      <td>7</td>\n",
       "      <td>2</td>\n",
       "      <td>9</td>\n",
       "      <td>Bipolar Tipo-1</td>\n",
       "    </tr>\n",
       "    <tr>\n",
       "      <th>2</th>\n",
       "      <td>Paciente-12</td>\n",
       "      <td>Quase Nunca</td>\n",
       "      <td>As Vezes</td>\n",
       "      <td>Geralmente</td>\n",
       "      <td>SIM</td>\n",
       "      <td>8</td>\n",
       "      <td>4</td>\n",
       "      <td>9</td>\n",
       "      <td>Bipolar Tipo-1</td>\n",
       "    </tr>\n",
       "    <tr>\n",
       "      <th>3</th>\n",
       "      <td>Paciente-16</td>\n",
       "      <td>As Vezes</td>\n",
       "      <td>As Vezes</td>\n",
       "      <td>As Vezes</td>\n",
       "      <td>SIM</td>\n",
       "      <td>6</td>\n",
       "      <td>4</td>\n",
       "      <td>6</td>\n",
       "      <td>Bipolar Tipo-1</td>\n",
       "    </tr>\n",
       "    <tr>\n",
       "      <th>4</th>\n",
       "      <td>Paciente-18</td>\n",
       "      <td>Geralmente</td>\n",
       "      <td>As Vezes</td>\n",
       "      <td>As Vezes</td>\n",
       "      <td>SIM</td>\n",
       "      <td>6</td>\n",
       "      <td>2</td>\n",
       "      <td>3</td>\n",
       "      <td>Bipolar Tipo-1</td>\n",
       "    </tr>\n",
       "  </tbody>\n",
       "</table>\n",
       "</div>"
      ],
      "text/plain": [
       "  Número do Paciente     Tristeza            Euforia Problemas com o sono  \\\n",
       "0        Paciente-03     As Vezes  Maioria das Vezes             As Vezes   \n",
       "1        Paciente-07  Quase Nunca         Geralmente             As Vezes   \n",
       "2        Paciente-12  Quase Nunca           As Vezes           Geralmente   \n",
       "3        Paciente-16     As Vezes           As Vezes             As Vezes   \n",
       "4        Paciente-18   Geralmente           As Vezes             As Vezes   \n",
       "\n",
       "  Mudança de humor  Atividade Sexual  Concentração  Otimismo  \\\n",
       "0              SIM                 6             5         7   \n",
       "1              SIM                 7             2         9   \n",
       "2              SIM                 8             4         9   \n",
       "3              SIM                 6             4         6   \n",
       "4              SIM                 6             2         3   \n",
       "\n",
       "  Diagnóstico do Profissional  \n",
       "0              Bipolar Tipo-1  \n",
       "1              Bipolar Tipo-1  \n",
       "2              Bipolar Tipo-1  \n",
       "3              Bipolar Tipo-1  \n",
       "4              Bipolar Tipo-1  "
      ]
     },
     "execution_count": 12,
     "metadata": {},
     "output_type": "execute_result"
    }
   ],
   "source": [
    "df.head(5)"
   ]
  },
  {
   "cell_type": "code",
   "execution_count": 13,
   "metadata": {},
   "outputs": [
    {
     "name": "stdout",
     "output_type": "stream",
     "text": [
      "<class 'pandas.core.frame.DataFrame'>\n",
      "RangeIndex: 59 entries, 0 to 58\n",
      "Data columns (total 9 columns):\n",
      " #   Column                       Non-Null Count  Dtype \n",
      "---  ------                       --------------  ----- \n",
      " 0   Número do Paciente           59 non-null     object\n",
      " 1   Tristeza                     59 non-null     object\n",
      " 2   Euforia                      59 non-null     object\n",
      " 3   Problemas com o sono         59 non-null     object\n",
      " 4   Mudança de humor             59 non-null     object\n",
      " 5   Atividade Sexual             59 non-null     int64 \n",
      " 6   Concentração                 59 non-null     int64 \n",
      " 7   Otimismo                     59 non-null     int64 \n",
      " 8   Diagnóstico do Profissional  59 non-null     object\n",
      "dtypes: int64(3), object(6)\n",
      "memory usage: 4.3+ KB\n",
      "None\n"
     ]
    }
   ],
   "source": [
    "print(df.info())"
   ]
  },
  {
   "cell_type": "code",
   "execution_count": 14,
   "metadata": {},
   "outputs": [
    {
     "name": "stdout",
     "output_type": "stream",
     "text": [
      "       Atividade Sexual  Concentração   Otimismo\n",
      "count         59.000000     59.000000  59.000000\n",
      "mean           4.898305      3.610169   4.644068\n",
      "std            2.309612      1.671433   2.123455\n",
      "min            1.000000      1.000000   1.000000\n",
      "25%            3.000000      2.000000   3.000000\n",
      "50%            5.000000      4.000000   4.000000\n",
      "75%            7.000000      5.000000   6.000000\n",
      "max            9.000000      8.000000   9.000000\n"
     ]
    }
   ],
   "source": [
    "print(df.describe())"
   ]
  },
  {
   "cell_type": "code",
   "execution_count": 15,
   "metadata": {},
   "outputs": [],
   "source": [
    "df.drop('Número do Paciente', axis=1, inplace=True)"
   ]
  },
  {
   "cell_type": "code",
   "execution_count": 16,
   "metadata": {},
   "outputs": [
    {
     "name": "stdout",
     "output_type": "stream",
     "text": [
      "    Tristeza  Euforia  Problemas com o sono  Mudança de humor  \\\n",
      "0      False    False                 False             False   \n",
      "1      False    False                 False             False   \n",
      "2      False    False                 False             False   \n",
      "3      False    False                 False             False   \n",
      "4      False    False                 False             False   \n",
      "5      False    False                 False             False   \n",
      "6      False    False                 False             False   \n",
      "7      False    False                 False             False   \n",
      "8      False    False                 False             False   \n",
      "9      False    False                 False             False   \n",
      "10     False    False                 False             False   \n",
      "11     False    False                 False             False   \n",
      "12     False    False                 False             False   \n",
      "13     False    False                 False             False   \n",
      "14     False    False                 False             False   \n",
      "15     False    False                 False             False   \n",
      "16     False    False                 False             False   \n",
      "17     False    False                 False             False   \n",
      "18     False    False                 False             False   \n",
      "19     False    False                 False             False   \n",
      "20     False    False                 False             False   \n",
      "21     False    False                 False             False   \n",
      "22     False    False                 False             False   \n",
      "23     False    False                 False             False   \n",
      "24     False    False                 False             False   \n",
      "25     False    False                 False             False   \n",
      "26     False    False                 False             False   \n",
      "27     False    False                 False             False   \n",
      "28     False    False                 False             False   \n",
      "29     False    False                 False             False   \n",
      "30     False    False                 False             False   \n",
      "31     False    False                 False             False   \n",
      "32     False    False                 False             False   \n",
      "33     False    False                 False             False   \n",
      "34     False    False                 False             False   \n",
      "35     False    False                 False             False   \n",
      "36     False    False                 False             False   \n",
      "37     False    False                 False             False   \n",
      "38     False    False                 False             False   \n",
      "39     False    False                 False             False   \n",
      "40     False    False                 False             False   \n",
      "41     False    False                 False             False   \n",
      "42     False    False                 False             False   \n",
      "43     False    False                 False             False   \n",
      "44     False    False                 False             False   \n",
      "45     False    False                 False             False   \n",
      "46     False    False                 False             False   \n",
      "47     False    False                 False             False   \n",
      "48     False    False                 False             False   \n",
      "49     False    False                 False             False   \n",
      "50     False    False                 False             False   \n",
      "51     False    False                 False             False   \n",
      "52     False    False                 False             False   \n",
      "53     False    False                 False             False   \n",
      "54     False    False                 False             False   \n",
      "55     False    False                 False             False   \n",
      "56     False    False                 False             False   \n",
      "57     False    False                 False             False   \n",
      "58     False    False                 False             False   \n",
      "\n",
      "    Atividade Sexual  Concentração  Otimismo  Diagnóstico do Profissional  \n",
      "0              False         False     False                        False  \n",
      "1              False         False     False                        False  \n",
      "2              False         False     False                        False  \n",
      "3              False         False     False                        False  \n",
      "4              False         False     False                        False  \n",
      "5              False         False     False                        False  \n",
      "6              False         False     False                        False  \n",
      "7              False         False     False                        False  \n",
      "8              False         False     False                        False  \n",
      "9              False         False     False                        False  \n",
      "10             False         False     False                        False  \n",
      "11             False         False     False                        False  \n",
      "12             False         False     False                        False  \n",
      "13             False         False     False                        False  \n",
      "14             False         False     False                        False  \n",
      "15             False         False     False                        False  \n",
      "16             False         False     False                        False  \n",
      "17             False         False     False                        False  \n",
      "18             False         False     False                        False  \n",
      "19             False         False     False                        False  \n",
      "20             False         False     False                        False  \n",
      "21             False         False     False                        False  \n",
      "22             False         False     False                        False  \n",
      "23             False         False     False                        False  \n",
      "24             False         False     False                        False  \n",
      "25             False         False     False                        False  \n",
      "26             False         False     False                        False  \n",
      "27             False         False     False                        False  \n",
      "28             False         False     False                        False  \n",
      "29             False         False     False                        False  \n",
      "30             False         False     False                        False  \n",
      "31             False         False     False                        False  \n",
      "32             False         False     False                        False  \n",
      "33             False         False     False                        False  \n",
      "34             False         False     False                        False  \n",
      "35             False         False     False                        False  \n",
      "36             False         False     False                        False  \n",
      "37             False         False     False                        False  \n",
      "38             False         False     False                        False  \n",
      "39             False         False     False                        False  \n",
      "40             False         False     False                        False  \n",
      "41             False         False     False                        False  \n",
      "42             False         False     False                        False  \n",
      "43             False         False     False                        False  \n",
      "44             False         False     False                        False  \n",
      "45             False         False     False                        False  \n",
      "46             False         False     False                        False  \n",
      "47             False         False     False                        False  \n",
      "48             False         False     False                        False  \n",
      "49             False         False     False                        False  \n",
      "50             False         False     False                        False  \n",
      "51             False         False     False                        False  \n",
      "52             False         False     False                        False  \n",
      "53             False         False     False                        False  \n",
      "54             False         False     False                        False  \n",
      "55             False         False     False                        False  \n",
      "56             False         False     False                        False  \n",
      "57             False         False     False                        False  \n",
      "58             False         False     False                        False  \n"
     ]
    }
   ],
   "source": [
    "nulos = df.isnull()\n",
    "print(nulos)"
   ]
  },
  {
   "cell_type": "code",
   "execution_count": 17,
   "metadata": {},
   "outputs": [
    {
     "name": "stdout",
     "output_type": "stream",
     "text": [
      "Tristeza                       0\n",
      "Euforia                        0\n",
      "Problemas com o sono           0\n",
      "Mudança de humor               0\n",
      "Atividade Sexual               0\n",
      "Concentração                   0\n",
      "Otimismo                       0\n",
      "Diagnóstico do Profissional    0\n",
      "dtype: int64\n"
     ]
    }
   ],
   "source": [
    "nulos_por_coluna = df.isnull().sum()\n",
    "print(nulos_por_coluna)"
   ]
  }
 ],
 "metadata": {
  "kernelspec": {
   "display_name": "base",
   "language": "python",
   "name": "python3"
  },
  "language_info": {
   "codemirror_mode": {
    "name": "ipython",
    "version": 3
   },
   "file_extension": ".py",
   "mimetype": "text/x-python",
   "name": "python",
   "nbconvert_exporter": "python",
   "pygments_lexer": "ipython3",
   "version": "3.12.4"
  }
 },
 "nbformat": 4,
 "nbformat_minor": 2
}
