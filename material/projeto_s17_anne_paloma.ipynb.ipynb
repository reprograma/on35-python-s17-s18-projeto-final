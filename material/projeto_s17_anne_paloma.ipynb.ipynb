{
 "cells": [
  {
   "cell_type": "markdown",
   "metadata": {},
   "source": [
    "Projeto Final de Análise de Dados\n",
    "\n",
    "Desenvolvido por:\n",
    "\n",
    "Paloma Avena palomaavena@gmail.com\n",
    "\n",
    "Anne Ribeiro anne.asribeiro@gmail.com"
   ]
  },
  {
   "cell_type": "markdown",
   "metadata": {},
   "source": [
    "**Contexto**\n",
    "Este projeto consiste na criação de um banco de dados e análise destes dados de desmatamento e CO2 do estado da Bahia nos últimos 5 anos."
   ]
  },
  {
   "cell_type": "markdown",
   "metadata": {},
   "source": [
    "Bases Escolhidas\n",
    "\n",
    "Base 1: MapBiomas Alertas https://plataforma.alerta.mapbiomas.org/downloads\n",
    "\n",
    "Base 2: Sistema de Estimativas de Emissões e Remoções de Gases de Efeito Estufa (SEEG) https://plataforma.seeg.eco.br/?highlight=states-net-emissions-by-sector-goias&_gl=1*1nqir75*_ga*NTI0MDk2MzUwLjE3Mjc1NDQ0NjA.*_ga_XZWSWEJDWQ*MTcyNzU0NDQ2MC4xLjAuMTcyNzU0NDQ2MC4wLjAuMA.."
   ]
  },
  {
   "cell_type": "markdown",
   "metadata": {},
   "source": [
    "Objetivo Geral:\n",
    "\n",
    "Criar um banco de dados e realizar uma análise dos dados com o objetivo de identificar variáveis de como o desmatamento na Bahia impacta nas taxas de emissão de CO2?"
   ]
  },
  {
   "cell_type": "markdown",
   "metadata": {},
   "source": [
    "As perguntas norteadoras deste projeto são:\n",
    "\n",
    "Como o desmatamento na Bahia impacta as taxas de emissão de CO₂ e qual sua relação com a temperatura dos oceanos?\n",
    "\n",
    "Qual a taxa de desmatamento nos biomas/municípios da Bahia e como ela evoluiu no período de 2019 a 2022?\n",
    "\n",
    "Qual a taxa de CO2 nos municípios da Bahia e como ela evoluiu no período de 2019 a 2022?\n",
    "\n",
    "Existe uma relação entre as áreas desmatadas e o aumento de CO2?\n",
    "\n",
    "Quais regiões da Bahia apresentam as maiores emissões de carbono derivadas do desmatamento?\n",
    "\n",
    "Houve alguma alteração no período da Pandemia?"
   ]
  },
  {
   "cell_type": "markdown",
   "metadata": {},
   "source": [
    "Base de Dados MapBiomas"
   ]
  },
  {
   "cell_type": "code",
   "execution_count": 5,
   "metadata": {},
   "outputs": [],
   "source": [
    "import pandas as pd\n",
    "import numpy as np\n",
    "import matplotlib.pyplot as plt"
   ]
  },
  {
   "cell_type": "code",
   "execution_count": 6,
   "metadata": {},
   "outputs": [],
   "source": [
    "df = pd.read_csv(r'C:\\Users\\annea\\OneDrive\\Área de Trabalho\\Reprograma\\on35-python-s17-s18-projeto-final\\dados\\mapbiomas_ba.csv', delimiter=';', encoding='utf-8')"
   ]
  },
  {
   "cell_type": "code",
   "execution_count": 3,
   "metadata": {},
   "outputs": [
    {
     "name": "stdout",
     "output_type": "stream",
     "text": [
      "   CODEALERTA           FONTE     BIOMA ESTADO      MUNICIPIO  \\\n",
      "0     1226926  {SAD-CAATINGA}  Caatinga  BAHIA           Iaçu   \n",
      "1     1226922  {SAD-CAATINGA}  Caatinga  BAHIA  Miguel Calmon   \n",
      "2     1227303  {SAD-CAATINGA}  Caatinga  BAHIA     Buritirama   \n",
      "3     1227296  {SAD-CAATINGA}  Caatinga  BAHIA          Piatã   \n",
      "4     1227291  {SAD-CAATINGA}  Caatinga  BAHIA       Cotegipe   \n",
      "\n",
      "            AREAHA            ANODETEC   DATADETEC    DTIMGANT    DTIMGDEP  \\\n",
      "0   29.600.000.000  20.240.000.000.000  01/01/2024  26/01/2023  14/02/2024   \n",
      "1   16.900.000.000  20.240.000.000.000  01/01/2024  30/06/2023  31/01/2024   \n",
      "2   20.500.000.000  20.240.000.000.000  01/01/2024  17/03/2023  10/10/2023   \n",
      "3     0.6900000000  20.240.000.000.000  01/01/2024  27/04/2023  17/06/2023   \n",
      "4  239.700.000.000  20.240.000.000.000  01/01/2024  12/08/2023  17/10/2023   \n",
      "\n",
      "      DTPUBLI     VPRESSAO  \n",
      "0  30/04/2024  agriculture  \n",
      "1  30/04/2024  agriculture  \n",
      "2  30/04/2024  agriculture  \n",
      "3  30/04/2024  agriculture  \n",
      "4  30/04/2024  agriculture  \n"
     ]
    }
   ],
   "source": [
    "print(df.head())"
   ]
  },
  {
   "cell_type": "code",
   "execution_count": 7,
   "metadata": {},
   "outputs": [],
   "source": [
    "# Remover múltiplas colunas de uma vez\n",
    "colunas_para_remover = ['CODEALERTA', 'FONTE', 'AREAHA', 'ANODETEC', 'DATADETEC', 'DTPUBLI', 'VPRESSAO']\n",
    "df = df.drop(columns=colunas_para_remover)\n"
   ]
  },
  {
   "cell_type": "code",
   "execution_count": 8,
   "metadata": {},
   "outputs": [
    {
     "name": "stdout",
     "output_type": "stream",
     "text": [
      "      BIOMA ESTADO      MUNICIPIO    DTIMGANT    DTIMGDEP\n",
      "0  Caatinga  BAHIA           Iaçu  26/01/2023  14/02/2024\n",
      "1  Caatinga  BAHIA  Miguel Calmon  30/06/2023  31/01/2024\n",
      "2  Caatinga  BAHIA     Buritirama  17/03/2023  10/10/2023\n",
      "3  Caatinga  BAHIA          Piatã  27/04/2023  17/06/2023\n",
      "4  Caatinga  BAHIA       Cotegipe  12/08/2023  17/10/2023\n"
     ]
    }
   ],
   "source": [
    "print(df.head())"
   ]
  },
  {
   "cell_type": "code",
   "execution_count": 10,
   "metadata": {},
   "outputs": [],
   "source": [
    "df.to_csv('mapbiomas_ba_limpo.csv', index=False, encoding='utf-8')"
   ]
  },
  {
   "cell_type": "code",
   "execution_count": 17,
   "metadata": {},
   "outputs": [],
   "source": [
    "df = pd.read_csv(r'C:\\Users\\annea\\OneDrive\\Área de Trabalho\\Reprograma\\on35-python-s17-s18-projeto-final\\material\\mapbiomas_ba_limpo.csv',delimiter=';', encoding='utf-8')\n"
   ]
  },
  {
   "cell_type": "code",
   "execution_count": 18,
   "metadata": {},
   "outputs": [
    {
     "name": "stdout",
     "output_type": "stream",
     "text": [
      "            BIOMA,ESTADO,MUNICIPIO,DTIMGANT,DTIMGDEP\n",
      "0          Caatinga,BAHIA,Iaçu,26/01/2023,14/02/2024\n",
      "1  Caatinga,BAHIA,Miguel Calmon,30/06/2023,31/01/...\n",
      "2    Caatinga,BAHIA,Buritirama,17/03/2023,10/10/2023\n",
      "3         Caatinga,BAHIA,Piatã,27/04/2023,17/06/2023\n",
      "4      Caatinga,BAHIA,Cotegipe,12/08/2023,17/10/2023\n"
     ]
    }
   ],
   "source": [
    "print(df.head())"
   ]
  },
  {
   "cell_type": "code",
   "execution_count": 21,
   "metadata": {},
   "outputs": [
    {
     "name": "stdout",
     "output_type": "stream",
     "text": [
      "<class 'pandas.core.frame.DataFrame'>\n",
      "RangeIndex: 28397 entries, 0 to 28396\n",
      "Data columns (total 1 columns):\n",
      " #   Column                                    Non-Null Count  Dtype \n",
      "---  ------                                    --------------  ----- \n",
      " 0   BIOMA,ESTADO,MUNICIPIO,DTIMGANT,DTIMGDEP  28397 non-null  object\n",
      "dtypes: object(1)\n",
      "memory usage: 222.0+ KB\n",
      "None\n"
     ]
    }
   ],
   "source": [
    "# Verificar tipos de dados e quantidade de valores não nulos\n",
    "print(df.info())\n"
   ]
  },
  {
   "cell_type": "code",
   "execution_count": 22,
   "metadata": {},
   "outputs": [
    {
     "name": "stdout",
     "output_type": "stream",
     "text": [
      "BIOMA,ESTADO,MUNICIPIO,DTIMGANT,DTIMGDEP    0\n",
      "dtype: int64\n"
     ]
    }
   ],
   "source": [
    "# Verificar se tem valores faltantes\n",
    "print(df.isnull().sum())\n"
   ]
  },
  {
   "cell_type": "code",
   "execution_count": 23,
   "metadata": {},
   "outputs": [
    {
     "name": "stdout",
     "output_type": "stream",
     "text": [
      "              BIOMA,ESTADO,MUNICIPIO,DTIMGANT,DTIMGDEP\n",
      "count                                            28397\n",
      "unique                                           27558\n",
      "top     Caatinga,BAHIA,Itapicuru,22/09/2021,08/06/2022\n",
      "freq                                                13\n"
     ]
    }
   ],
   "source": [
    "# Estatísticas descritivas \n",
    "print(df.describe())\n"
   ]
  }
 ],
 "metadata": {
  "kernelspec": {
   "display_name": "Python 3",
   "language": "python",
   "name": "python3"
  },
  "language_info": {
   "codemirror_mode": {
    "name": "ipython",
    "version": 3
   },
   "file_extension": ".py",
   "mimetype": "text/x-python",
   "name": "python",
   "nbconvert_exporter": "python",
   "pygments_lexer": "ipython3",
   "version": "3.12.3"
  }
 },
 "nbformat": 4,
 "nbformat_minor": 2
}
